{
 "cells": [
  {
   "cell_type": "code",
   "execution_count": 1,
   "metadata": {},
   "outputs": [],
   "source": [
    "import numpy as np\n",
    "import pandas as pd"
   ]
  },
  {
   "cell_type": "code",
   "execution_count": 2,
   "metadata": {
    "collapsed": true,
    "jupyter": {
     "outputs_hidden": true
    },
    "tags": []
   },
   "outputs": [
    {
     "data": {
      "text/html": [
       "<div>\n",
       "<style scoped>\n",
       "    .dataframe tbody tr th:only-of-type {\n",
       "        vertical-align: middle;\n",
       "    }\n",
       "\n",
       "    .dataframe tbody tr th {\n",
       "        vertical-align: top;\n",
       "    }\n",
       "\n",
       "    .dataframe thead th {\n",
       "        text-align: right;\n",
       "    }\n",
       "</style>\n",
       "<table border=\"1\" class=\"dataframe\">\n",
       "  <thead>\n",
       "    <tr style=\"text-align: right;\">\n",
       "      <th></th>\n",
       "      <th>id</th>\n",
       "      <th>Gender</th>\n",
       "      <th>Customer Type</th>\n",
       "      <th>Age</th>\n",
       "      <th>Type of Travel</th>\n",
       "      <th>Class</th>\n",
       "      <th>Flight Distance</th>\n",
       "      <th>satisfaction</th>\n",
       "    </tr>\n",
       "  </thead>\n",
       "  <tbody>\n",
       "    <tr>\n",
       "      <th>0</th>\n",
       "      <td>70172</td>\n",
       "      <td>Male</td>\n",
       "      <td>Loyal Customer</td>\n",
       "      <td>13</td>\n",
       "      <td>Personal Travel</td>\n",
       "      <td>Eco Plus</td>\n",
       "      <td>460</td>\n",
       "      <td>neutral or dissatisfied</td>\n",
       "    </tr>\n",
       "    <tr>\n",
       "      <th>1</th>\n",
       "      <td>5047</td>\n",
       "      <td>Male</td>\n",
       "      <td>disloyal Customer</td>\n",
       "      <td>25</td>\n",
       "      <td>Business travel</td>\n",
       "      <td>Business</td>\n",
       "      <td>235</td>\n",
       "      <td>neutral or dissatisfied</td>\n",
       "    </tr>\n",
       "    <tr>\n",
       "      <th>2</th>\n",
       "      <td>110028</td>\n",
       "      <td>Female</td>\n",
       "      <td>Loyal Customer</td>\n",
       "      <td>26</td>\n",
       "      <td>Business travel</td>\n",
       "      <td>Business</td>\n",
       "      <td>1142</td>\n",
       "      <td>satisfied</td>\n",
       "    </tr>\n",
       "    <tr>\n",
       "      <th>3</th>\n",
       "      <td>24026</td>\n",
       "      <td>Female</td>\n",
       "      <td>Loyal Customer</td>\n",
       "      <td>25</td>\n",
       "      <td>Business travel</td>\n",
       "      <td>Business</td>\n",
       "      <td>562</td>\n",
       "      <td>neutral or dissatisfied</td>\n",
       "    </tr>\n",
       "    <tr>\n",
       "      <th>4</th>\n",
       "      <td>119299</td>\n",
       "      <td>Male</td>\n",
       "      <td>Loyal Customer</td>\n",
       "      <td>61</td>\n",
       "      <td>Business travel</td>\n",
       "      <td>Business</td>\n",
       "      <td>214</td>\n",
       "      <td>satisfied</td>\n",
       "    </tr>\n",
       "    <tr>\n",
       "      <th>...</th>\n",
       "      <td>...</td>\n",
       "      <td>...</td>\n",
       "      <td>...</td>\n",
       "      <td>...</td>\n",
       "      <td>...</td>\n",
       "      <td>...</td>\n",
       "      <td>...</td>\n",
       "      <td>...</td>\n",
       "    </tr>\n",
       "    <tr>\n",
       "      <th>103899</th>\n",
       "      <td>94171</td>\n",
       "      <td>Female</td>\n",
       "      <td>disloyal Customer</td>\n",
       "      <td>23</td>\n",
       "      <td>Business travel</td>\n",
       "      <td>Eco</td>\n",
       "      <td>192</td>\n",
       "      <td>neutral or dissatisfied</td>\n",
       "    </tr>\n",
       "    <tr>\n",
       "      <th>103900</th>\n",
       "      <td>73097</td>\n",
       "      <td>Male</td>\n",
       "      <td>Loyal Customer</td>\n",
       "      <td>49</td>\n",
       "      <td>Business travel</td>\n",
       "      <td>Business</td>\n",
       "      <td>2347</td>\n",
       "      <td>satisfied</td>\n",
       "    </tr>\n",
       "    <tr>\n",
       "      <th>103901</th>\n",
       "      <td>68825</td>\n",
       "      <td>Male</td>\n",
       "      <td>disloyal Customer</td>\n",
       "      <td>30</td>\n",
       "      <td>Business travel</td>\n",
       "      <td>Business</td>\n",
       "      <td>1995</td>\n",
       "      <td>neutral or dissatisfied</td>\n",
       "    </tr>\n",
       "    <tr>\n",
       "      <th>103902</th>\n",
       "      <td>54173</td>\n",
       "      <td>Female</td>\n",
       "      <td>disloyal Customer</td>\n",
       "      <td>22</td>\n",
       "      <td>Business travel</td>\n",
       "      <td>Eco</td>\n",
       "      <td>1000</td>\n",
       "      <td>neutral or dissatisfied</td>\n",
       "    </tr>\n",
       "    <tr>\n",
       "      <th>103903</th>\n",
       "      <td>62567</td>\n",
       "      <td>Male</td>\n",
       "      <td>Loyal Customer</td>\n",
       "      <td>27</td>\n",
       "      <td>Business travel</td>\n",
       "      <td>Business</td>\n",
       "      <td>1723</td>\n",
       "      <td>neutral or dissatisfied</td>\n",
       "    </tr>\n",
       "  </tbody>\n",
       "</table>\n",
       "<p>103904 rows × 8 columns</p>\n",
       "</div>"
      ],
      "text/plain": [
       "            id  Gender      Customer Type  Age   Type of Travel     Class  \\\n",
       "0        70172    Male     Loyal Customer   13  Personal Travel  Eco Plus   \n",
       "1         5047    Male  disloyal Customer   25  Business travel  Business   \n",
       "2       110028  Female     Loyal Customer   26  Business travel  Business   \n",
       "3        24026  Female     Loyal Customer   25  Business travel  Business   \n",
       "4       119299    Male     Loyal Customer   61  Business travel  Business   \n",
       "...        ...     ...                ...  ...              ...       ...   \n",
       "103899   94171  Female  disloyal Customer   23  Business travel       Eco   \n",
       "103900   73097    Male     Loyal Customer   49  Business travel  Business   \n",
       "103901   68825    Male  disloyal Customer   30  Business travel  Business   \n",
       "103902   54173  Female  disloyal Customer   22  Business travel       Eco   \n",
       "103903   62567    Male     Loyal Customer   27  Business travel  Business   \n",
       "\n",
       "        Flight Distance             satisfaction  \n",
       "0                   460  neutral or dissatisfied  \n",
       "1                   235  neutral or dissatisfied  \n",
       "2                  1142                satisfied  \n",
       "3                   562  neutral or dissatisfied  \n",
       "4                   214                satisfied  \n",
       "...                 ...                      ...  \n",
       "103899              192  neutral or dissatisfied  \n",
       "103900             2347                satisfied  \n",
       "103901             1995  neutral or dissatisfied  \n",
       "103902             1000  neutral or dissatisfied  \n",
       "103903             1723  neutral or dissatisfied  \n",
       "\n",
       "[103904 rows x 8 columns]"
      ]
     },
     "execution_count": 2,
     "metadata": {},
     "output_type": "execute_result"
    }
   ],
   "source": [
    "air=pd.read_csv('Airlines_cust.csv')\n",
    "air"
   ]
  },
  {
   "cell_type": "code",
   "execution_count": 3,
   "metadata": {
    "collapsed": true,
    "jupyter": {
     "outputs_hidden": true
    },
    "tags": []
   },
   "outputs": [
    {
     "data": {
      "text/html": [
       "<div>\n",
       "<style scoped>\n",
       "    .dataframe tbody tr th:only-of-type {\n",
       "        vertical-align: middle;\n",
       "    }\n",
       "\n",
       "    .dataframe tbody tr th {\n",
       "        vertical-align: top;\n",
       "    }\n",
       "\n",
       "    .dataframe thead th {\n",
       "        text-align: right;\n",
       "    }\n",
       "</style>\n",
       "<table border=\"1\" class=\"dataframe\">\n",
       "  <thead>\n",
       "    <tr style=\"text-align: right;\">\n",
       "      <th></th>\n",
       "      <th>id</th>\n",
       "      <th>Gender</th>\n",
       "      <th>Customer Type</th>\n",
       "      <th>Age</th>\n",
       "      <th>Type of Travel</th>\n",
       "      <th>Class</th>\n",
       "      <th>Flight Distance</th>\n",
       "      <th>satisfaction</th>\n",
       "    </tr>\n",
       "  </thead>\n",
       "  <tbody>\n",
       "  </tbody>\n",
       "</table>\n",
       "</div>"
      ],
      "text/plain": [
       "Empty DataFrame\n",
       "Columns: [id, Gender, Customer Type, Age, Type of Travel, Class, Flight Distance, satisfaction]\n",
       "Index: []"
      ]
     },
     "execution_count": 3,
     "metadata": {},
     "output_type": "execute_result"
    }
   ],
   "source": [
    "air[air['id'].isna()]"
   ]
  },
  {
   "cell_type": "code",
   "execution_count": 4,
   "metadata": {
    "collapsed": true,
    "jupyter": {
     "outputs_hidden": true
    },
    "tags": []
   },
   "outputs": [
    {
     "data": {
      "text/html": [
       "<div>\n",
       "<style scoped>\n",
       "    .dataframe tbody tr th:only-of-type {\n",
       "        vertical-align: middle;\n",
       "    }\n",
       "\n",
       "    .dataframe tbody tr th {\n",
       "        vertical-align: top;\n",
       "    }\n",
       "\n",
       "    .dataframe thead th {\n",
       "        text-align: right;\n",
       "    }\n",
       "</style>\n",
       "<table border=\"1\" class=\"dataframe\">\n",
       "  <thead>\n",
       "    <tr style=\"text-align: right;\">\n",
       "      <th></th>\n",
       "      <th>id</th>\n",
       "      <th>Gender</th>\n",
       "      <th>Customer Type</th>\n",
       "      <th>Age</th>\n",
       "      <th>Type of Travel</th>\n",
       "      <th>Class</th>\n",
       "      <th>Flight Distance</th>\n",
       "      <th>satisfaction</th>\n",
       "    </tr>\n",
       "  </thead>\n",
       "  <tbody>\n",
       "  </tbody>\n",
       "</table>\n",
       "</div>"
      ],
      "text/plain": [
       "Empty DataFrame\n",
       "Columns: [id, Gender, Customer Type, Age, Type of Travel, Class, Flight Distance, satisfaction]\n",
       "Index: []"
      ]
     },
     "execution_count": 4,
     "metadata": {},
     "output_type": "execute_result"
    }
   ],
   "source": [
    "airk=pd.isnull(air['Class'])\n",
    "air[airk]"
   ]
  },
  {
   "cell_type": "code",
   "execution_count": 5,
   "metadata": {
    "collapsed": true,
    "jupyter": {
     "outputs_hidden": true
    },
    "tags": []
   },
   "outputs": [
    {
     "data": {
      "text/plain": [
       "0         False\n",
       "1         False\n",
       "2         False\n",
       "3         False\n",
       "4         False\n",
       "          ...  \n",
       "103899    False\n",
       "103900    False\n",
       "103901    False\n",
       "103902    False\n",
       "103903    False\n",
       "Length: 103904, dtype: bool"
      ]
     },
     "execution_count": 5,
     "metadata": {},
     "output_type": "execute_result"
    }
   ],
   "source": [
    "air.isna().any(axis=1)"
   ]
  },
  {
   "cell_type": "code",
   "execution_count": 6,
   "metadata": {
    "collapsed": true,
    "jupyter": {
     "outputs_hidden": true
    },
    "tags": []
   },
   "outputs": [
    {
     "data": {
      "text/plain": [
       "array(['Eco Plus', 'Business', 'Eco'], dtype=object)"
      ]
     },
     "execution_count": 6,
     "metadata": {},
     "output_type": "execute_result"
    }
   ],
   "source": [
    "air['Class'].unique()"
   ]
  },
  {
   "cell_type": "code",
   "execution_count": 7,
   "metadata": {
    "collapsed": true,
    "jupyter": {
     "outputs_hidden": true
    },
    "tags": []
   },
   "outputs": [
    {
     "data": {
      "text/plain": [
       "id                  int64\n",
       "Gender             object\n",
       "Customer Type      object\n",
       "Age                 int64\n",
       "Type of Travel     object\n",
       "Class              object\n",
       "Flight Distance     int64\n",
       "satisfaction       object\n",
       "dtype: object"
      ]
     },
     "execution_count": 7,
     "metadata": {},
     "output_type": "execute_result"
    }
   ],
   "source": [
    "air.dtypes"
   ]
  },
  {
   "cell_type": "code",
   "execution_count": 8,
   "metadata": {
    "tags": []
   },
   "outputs": [
    {
     "data": {
      "text/plain": [
       "array(['Loyal Customer', 'disloyal Customer'], dtype=object)"
      ]
     },
     "execution_count": 8,
     "metadata": {},
     "output_type": "execute_result"
    }
   ],
   "source": [
    "air['Customer Type'].unique()"
   ]
  },
  {
   "cell_type": "code",
   "execution_count": 9,
   "metadata": {
    "tags": []
   },
   "outputs": [
    {
     "data": {
      "text/html": [
       "<div>\n",
       "<style scoped>\n",
       "    .dataframe tbody tr th:only-of-type {\n",
       "        vertical-align: middle;\n",
       "    }\n",
       "\n",
       "    .dataframe tbody tr th {\n",
       "        vertical-align: top;\n",
       "    }\n",
       "\n",
       "    .dataframe thead th {\n",
       "        text-align: right;\n",
       "    }\n",
       "</style>\n",
       "<table border=\"1\" class=\"dataframe\">\n",
       "  <thead>\n",
       "    <tr style=\"text-align: right;\">\n",
       "      <th></th>\n",
       "      <th>id</th>\n",
       "      <th>Gender</th>\n",
       "      <th>Customer Type</th>\n",
       "      <th>Age</th>\n",
       "      <th>Type of Travel</th>\n",
       "      <th>Class</th>\n",
       "      <th>Flight Distance</th>\n",
       "      <th>satisfaction</th>\n",
       "    </tr>\n",
       "  </thead>\n",
       "  <tbody>\n",
       "    <tr>\n",
       "      <th>0</th>\n",
       "      <td>70172</td>\n",
       "      <td>Male</td>\n",
       "      <td>Loyal Customer</td>\n",
       "      <td>13</td>\n",
       "      <td>Personal Travel</td>\n",
       "      <td>Eco Plus</td>\n",
       "      <td>460</td>\n",
       "      <td>neutral or dissatisfied</td>\n",
       "    </tr>\n",
       "    <tr>\n",
       "      <th>1</th>\n",
       "      <td>5047</td>\n",
       "      <td>Male</td>\n",
       "      <td>Disloyal Customer</td>\n",
       "      <td>25</td>\n",
       "      <td>Business travel</td>\n",
       "      <td>Business</td>\n",
       "      <td>235</td>\n",
       "      <td>neutral or dissatisfied</td>\n",
       "    </tr>\n",
       "    <tr>\n",
       "      <th>2</th>\n",
       "      <td>110028</td>\n",
       "      <td>Female</td>\n",
       "      <td>Loyal Customer</td>\n",
       "      <td>26</td>\n",
       "      <td>Business travel</td>\n",
       "      <td>Business</td>\n",
       "      <td>1142</td>\n",
       "      <td>satisfied</td>\n",
       "    </tr>\n",
       "    <tr>\n",
       "      <th>3</th>\n",
       "      <td>24026</td>\n",
       "      <td>Female</td>\n",
       "      <td>Loyal Customer</td>\n",
       "      <td>25</td>\n",
       "      <td>Business travel</td>\n",
       "      <td>Business</td>\n",
       "      <td>562</td>\n",
       "      <td>neutral or dissatisfied</td>\n",
       "    </tr>\n",
       "    <tr>\n",
       "      <th>4</th>\n",
       "      <td>119299</td>\n",
       "      <td>Male</td>\n",
       "      <td>Loyal Customer</td>\n",
       "      <td>61</td>\n",
       "      <td>Business travel</td>\n",
       "      <td>Business</td>\n",
       "      <td>214</td>\n",
       "      <td>satisfied</td>\n",
       "    </tr>\n",
       "    <tr>\n",
       "      <th>...</th>\n",
       "      <td>...</td>\n",
       "      <td>...</td>\n",
       "      <td>...</td>\n",
       "      <td>...</td>\n",
       "      <td>...</td>\n",
       "      <td>...</td>\n",
       "      <td>...</td>\n",
       "      <td>...</td>\n",
       "    </tr>\n",
       "    <tr>\n",
       "      <th>103899</th>\n",
       "      <td>94171</td>\n",
       "      <td>Female</td>\n",
       "      <td>Disloyal Customer</td>\n",
       "      <td>23</td>\n",
       "      <td>Business travel</td>\n",
       "      <td>Eco</td>\n",
       "      <td>192</td>\n",
       "      <td>neutral or dissatisfied</td>\n",
       "    </tr>\n",
       "    <tr>\n",
       "      <th>103900</th>\n",
       "      <td>73097</td>\n",
       "      <td>Male</td>\n",
       "      <td>Loyal Customer</td>\n",
       "      <td>49</td>\n",
       "      <td>Business travel</td>\n",
       "      <td>Business</td>\n",
       "      <td>2347</td>\n",
       "      <td>satisfied</td>\n",
       "    </tr>\n",
       "    <tr>\n",
       "      <th>103901</th>\n",
       "      <td>68825</td>\n",
       "      <td>Male</td>\n",
       "      <td>Disloyal Customer</td>\n",
       "      <td>30</td>\n",
       "      <td>Business travel</td>\n",
       "      <td>Business</td>\n",
       "      <td>1995</td>\n",
       "      <td>neutral or dissatisfied</td>\n",
       "    </tr>\n",
       "    <tr>\n",
       "      <th>103902</th>\n",
       "      <td>54173</td>\n",
       "      <td>Female</td>\n",
       "      <td>Disloyal Customer</td>\n",
       "      <td>22</td>\n",
       "      <td>Business travel</td>\n",
       "      <td>Eco</td>\n",
       "      <td>1000</td>\n",
       "      <td>neutral or dissatisfied</td>\n",
       "    </tr>\n",
       "    <tr>\n",
       "      <th>103903</th>\n",
       "      <td>62567</td>\n",
       "      <td>Male</td>\n",
       "      <td>Loyal Customer</td>\n",
       "      <td>27</td>\n",
       "      <td>Business travel</td>\n",
       "      <td>Business</td>\n",
       "      <td>1723</td>\n",
       "      <td>neutral or dissatisfied</td>\n",
       "    </tr>\n",
       "  </tbody>\n",
       "</table>\n",
       "<p>103904 rows × 8 columns</p>\n",
       "</div>"
      ],
      "text/plain": [
       "            id  Gender      Customer Type  Age   Type of Travel     Class  \\\n",
       "0        70172    Male     Loyal Customer   13  Personal Travel  Eco Plus   \n",
       "1         5047    Male  Disloyal Customer   25  Business travel  Business   \n",
       "2       110028  Female     Loyal Customer   26  Business travel  Business   \n",
       "3        24026  Female     Loyal Customer   25  Business travel  Business   \n",
       "4       119299    Male     Loyal Customer   61  Business travel  Business   \n",
       "...        ...     ...                ...  ...              ...       ...   \n",
       "103899   94171  Female  Disloyal Customer   23  Business travel       Eco   \n",
       "103900   73097    Male     Loyal Customer   49  Business travel  Business   \n",
       "103901   68825    Male  Disloyal Customer   30  Business travel  Business   \n",
       "103902   54173  Female  Disloyal Customer   22  Business travel       Eco   \n",
       "103903   62567    Male     Loyal Customer   27  Business travel  Business   \n",
       "\n",
       "        Flight Distance             satisfaction  \n",
       "0                   460  neutral or dissatisfied  \n",
       "1                   235  neutral or dissatisfied  \n",
       "2                  1142                satisfied  \n",
       "3                   562  neutral or dissatisfied  \n",
       "4                   214                satisfied  \n",
       "...                 ...                      ...  \n",
       "103899              192  neutral or dissatisfied  \n",
       "103900             2347                satisfied  \n",
       "103901             1995  neutral or dissatisfied  \n",
       "103902             1000  neutral or dissatisfied  \n",
       "103903             1723  neutral or dissatisfied  \n",
       "\n",
       "[103904 rows x 8 columns]"
      ]
     },
     "execution_count": 9,
     "metadata": {},
     "output_type": "execute_result"
    }
   ],
   "source": [
    "air.replace('disloyal Customer','Disloyal Customer')"
   ]
  },
  {
   "cell_type": "code",
   "execution_count": 10,
   "metadata": {},
   "outputs": [],
   "source": [
    "air.replace('disloyal Customer','Disloyal Customer',inplace=True)"
   ]
  },
  {
   "cell_type": "code",
   "execution_count": 11,
   "metadata": {
    "tags": []
   },
   "outputs": [
    {
     "data": {
      "text/html": [
       "<div>\n",
       "<style scoped>\n",
       "    .dataframe tbody tr th:only-of-type {\n",
       "        vertical-align: middle;\n",
       "    }\n",
       "\n",
       "    .dataframe tbody tr th {\n",
       "        vertical-align: top;\n",
       "    }\n",
       "\n",
       "    .dataframe thead th {\n",
       "        text-align: right;\n",
       "    }\n",
       "</style>\n",
       "<table border=\"1\" class=\"dataframe\">\n",
       "  <thead>\n",
       "    <tr style=\"text-align: right;\">\n",
       "      <th></th>\n",
       "      <th>id</th>\n",
       "      <th>Gender</th>\n",
       "      <th>Customer Type</th>\n",
       "      <th>Age</th>\n",
       "      <th>Type of Travel</th>\n",
       "      <th>Class</th>\n",
       "      <th>Flight Distance</th>\n",
       "      <th>satisfaction</th>\n",
       "    </tr>\n",
       "  </thead>\n",
       "  <tbody>\n",
       "    <tr>\n",
       "      <th>0</th>\n",
       "      <td>70172</td>\n",
       "      <td>Male</td>\n",
       "      <td>Loyal Customer</td>\n",
       "      <td>13</td>\n",
       "      <td>Personal Travel</td>\n",
       "      <td>Eco Plus</td>\n",
       "      <td>460</td>\n",
       "      <td>neutral or dissatisfied</td>\n",
       "    </tr>\n",
       "    <tr>\n",
       "      <th>1</th>\n",
       "      <td>5047</td>\n",
       "      <td>Male</td>\n",
       "      <td>Disloyal Customer</td>\n",
       "      <td>25</td>\n",
       "      <td>Business travel</td>\n",
       "      <td>Business</td>\n",
       "      <td>235</td>\n",
       "      <td>neutral or dissatisfied</td>\n",
       "    </tr>\n",
       "    <tr>\n",
       "      <th>2</th>\n",
       "      <td>110028</td>\n",
       "      <td>Female</td>\n",
       "      <td>Loyal Customer</td>\n",
       "      <td>26</td>\n",
       "      <td>Business travel</td>\n",
       "      <td>Business</td>\n",
       "      <td>1142</td>\n",
       "      <td>satisfied</td>\n",
       "    </tr>\n",
       "    <tr>\n",
       "      <th>3</th>\n",
       "      <td>24026</td>\n",
       "      <td>Female</td>\n",
       "      <td>Loyal Customer</td>\n",
       "      <td>25</td>\n",
       "      <td>Business travel</td>\n",
       "      <td>Business</td>\n",
       "      <td>562</td>\n",
       "      <td>neutral or dissatisfied</td>\n",
       "    </tr>\n",
       "    <tr>\n",
       "      <th>4</th>\n",
       "      <td>119299</td>\n",
       "      <td>Male</td>\n",
       "      <td>Loyal Customer</td>\n",
       "      <td>61</td>\n",
       "      <td>Business travel</td>\n",
       "      <td>Business</td>\n",
       "      <td>214</td>\n",
       "      <td>satisfied</td>\n",
       "    </tr>\n",
       "    <tr>\n",
       "      <th>...</th>\n",
       "      <td>...</td>\n",
       "      <td>...</td>\n",
       "      <td>...</td>\n",
       "      <td>...</td>\n",
       "      <td>...</td>\n",
       "      <td>...</td>\n",
       "      <td>...</td>\n",
       "      <td>...</td>\n",
       "    </tr>\n",
       "    <tr>\n",
       "      <th>103899</th>\n",
       "      <td>94171</td>\n",
       "      <td>Female</td>\n",
       "      <td>Disloyal Customer</td>\n",
       "      <td>23</td>\n",
       "      <td>Business travel</td>\n",
       "      <td>Eco</td>\n",
       "      <td>192</td>\n",
       "      <td>neutral or dissatisfied</td>\n",
       "    </tr>\n",
       "    <tr>\n",
       "      <th>103900</th>\n",
       "      <td>73097</td>\n",
       "      <td>Male</td>\n",
       "      <td>Loyal Customer</td>\n",
       "      <td>49</td>\n",
       "      <td>Business travel</td>\n",
       "      <td>Business</td>\n",
       "      <td>2347</td>\n",
       "      <td>satisfied</td>\n",
       "    </tr>\n",
       "    <tr>\n",
       "      <th>103901</th>\n",
       "      <td>68825</td>\n",
       "      <td>Male</td>\n",
       "      <td>Disloyal Customer</td>\n",
       "      <td>30</td>\n",
       "      <td>Business travel</td>\n",
       "      <td>Business</td>\n",
       "      <td>1995</td>\n",
       "      <td>neutral or dissatisfied</td>\n",
       "    </tr>\n",
       "    <tr>\n",
       "      <th>103902</th>\n",
       "      <td>54173</td>\n",
       "      <td>Female</td>\n",
       "      <td>Disloyal Customer</td>\n",
       "      <td>22</td>\n",
       "      <td>Business travel</td>\n",
       "      <td>Eco</td>\n",
       "      <td>1000</td>\n",
       "      <td>neutral or dissatisfied</td>\n",
       "    </tr>\n",
       "    <tr>\n",
       "      <th>103903</th>\n",
       "      <td>62567</td>\n",
       "      <td>Male</td>\n",
       "      <td>Loyal Customer</td>\n",
       "      <td>27</td>\n",
       "      <td>Business travel</td>\n",
       "      <td>Business</td>\n",
       "      <td>1723</td>\n",
       "      <td>neutral or dissatisfied</td>\n",
       "    </tr>\n",
       "  </tbody>\n",
       "</table>\n",
       "<p>103904 rows × 8 columns</p>\n",
       "</div>"
      ],
      "text/plain": [
       "            id  Gender      Customer Type  Age   Type of Travel     Class  \\\n",
       "0        70172    Male     Loyal Customer   13  Personal Travel  Eco Plus   \n",
       "1         5047    Male  Disloyal Customer   25  Business travel  Business   \n",
       "2       110028  Female     Loyal Customer   26  Business travel  Business   \n",
       "3        24026  Female     Loyal Customer   25  Business travel  Business   \n",
       "4       119299    Male     Loyal Customer   61  Business travel  Business   \n",
       "...        ...     ...                ...  ...              ...       ...   \n",
       "103899   94171  Female  Disloyal Customer   23  Business travel       Eco   \n",
       "103900   73097    Male     Loyal Customer   49  Business travel  Business   \n",
       "103901   68825    Male  Disloyal Customer   30  Business travel  Business   \n",
       "103902   54173  Female  Disloyal Customer   22  Business travel       Eco   \n",
       "103903   62567    Male     Loyal Customer   27  Business travel  Business   \n",
       "\n",
       "        Flight Distance             satisfaction  \n",
       "0                   460  neutral or dissatisfied  \n",
       "1                   235  neutral or dissatisfied  \n",
       "2                  1142                satisfied  \n",
       "3                   562  neutral or dissatisfied  \n",
       "4                   214                satisfied  \n",
       "...                 ...                      ...  \n",
       "103899              192  neutral or dissatisfied  \n",
       "103900             2347                satisfied  \n",
       "103901             1995  neutral or dissatisfied  \n",
       "103902             1000  neutral or dissatisfied  \n",
       "103903             1723  neutral or dissatisfied  \n",
       "\n",
       "[103904 rows x 8 columns]"
      ]
     },
     "execution_count": 11,
     "metadata": {},
     "output_type": "execute_result"
    }
   ],
   "source": [
    "air"
   ]
  },
  {
   "cell_type": "code",
   "execution_count": 12,
   "metadata": {
    "tags": []
   },
   "outputs": [
    {
     "data": {
      "text/html": [
       "<div>\n",
       "<style scoped>\n",
       "    .dataframe tbody tr th:only-of-type {\n",
       "        vertical-align: middle;\n",
       "    }\n",
       "\n",
       "    .dataframe tbody tr th {\n",
       "        vertical-align: top;\n",
       "    }\n",
       "\n",
       "    .dataframe thead th {\n",
       "        text-align: right;\n",
       "    }\n",
       "</style>\n",
       "<table border=\"1\" class=\"dataframe\">\n",
       "  <thead>\n",
       "    <tr style=\"text-align: right;\">\n",
       "      <th></th>\n",
       "      <th>id</th>\n",
       "      <th>Gender</th>\n",
       "      <th>Customer Type</th>\n",
       "      <th>Age</th>\n",
       "      <th>Type of Travel</th>\n",
       "      <th>Flight Distance</th>\n",
       "      <th>satisfaction</th>\n",
       "    </tr>\n",
       "    <tr>\n",
       "      <th>Class</th>\n",
       "      <th></th>\n",
       "      <th></th>\n",
       "      <th></th>\n",
       "      <th></th>\n",
       "      <th></th>\n",
       "      <th></th>\n",
       "      <th></th>\n",
       "    </tr>\n",
       "  </thead>\n",
       "  <tbody>\n",
       "    <tr>\n",
       "      <th>Business</th>\n",
       "      <td>49665</td>\n",
       "      <td>49665</td>\n",
       "      <td>49665</td>\n",
       "      <td>49665</td>\n",
       "      <td>49665</td>\n",
       "      <td>49665</td>\n",
       "      <td>49665</td>\n",
       "    </tr>\n",
       "    <tr>\n",
       "      <th>Eco</th>\n",
       "      <td>46745</td>\n",
       "      <td>46745</td>\n",
       "      <td>46745</td>\n",
       "      <td>46745</td>\n",
       "      <td>46745</td>\n",
       "      <td>46745</td>\n",
       "      <td>46745</td>\n",
       "    </tr>\n",
       "    <tr>\n",
       "      <th>Eco Plus</th>\n",
       "      <td>7494</td>\n",
       "      <td>7494</td>\n",
       "      <td>7494</td>\n",
       "      <td>7494</td>\n",
       "      <td>7494</td>\n",
       "      <td>7494</td>\n",
       "      <td>7494</td>\n",
       "    </tr>\n",
       "  </tbody>\n",
       "</table>\n",
       "</div>"
      ],
      "text/plain": [
       "             id  Gender  Customer Type    Age  Type of Travel  \\\n",
       "Class                                                           \n",
       "Business  49665   49665          49665  49665           49665   \n",
       "Eco       46745   46745          46745  46745           46745   \n",
       "Eco Plus   7494    7494           7494   7494            7494   \n",
       "\n",
       "          Flight Distance  satisfaction  \n",
       "Class                                    \n",
       "Business            49665         49665  \n",
       "Eco                 46745         46745  \n",
       "Eco Plus             7494          7494  "
      ]
     },
     "execution_count": 12,
     "metadata": {},
     "output_type": "execute_result"
    }
   ],
   "source": [
    "air1=air.groupby(by='Class').count()\n",
    "air1"
   ]
  },
  {
   "cell_type": "code",
   "execution_count": 13,
   "metadata": {
    "tags": []
   },
   "outputs": [
    {
     "data": {
      "text/plain": [
       "0"
      ]
     },
     "execution_count": 13,
     "metadata": {},
     "output_type": "execute_result"
    }
   ],
   "source": [
    "air.duplicated().sum()"
   ]
  },
  {
   "cell_type": "code",
   "execution_count": 14,
   "metadata": {
    "tags": []
   },
   "outputs": [
    {
     "data": {
      "text/plain": [
       "4983"
      ]
     },
     "execution_count": 14,
     "metadata": {},
     "output_type": "execute_result"
    }
   ],
   "source": [
    "air['Flight Distance'].max()"
   ]
  },
  {
   "cell_type": "code",
   "execution_count": 15,
   "metadata": {
    "tags": []
   },
   "outputs": [
    {
     "data": {
      "text/plain": [
       "31"
      ]
     },
     "execution_count": 15,
     "metadata": {},
     "output_type": "execute_result"
    }
   ],
   "source": [
    "air['Flight Distance'].min()"
   ]
  },
  {
   "cell_type": "code",
   "execution_count": 16,
   "metadata": {
    "tags": []
   },
   "outputs": [
    {
     "data": {
      "text/plain": [
       "414.0"
      ]
     },
     "execution_count": 16,
     "metadata": {},
     "output_type": "execute_result"
    }
   ],
   "source": [
    "Q1=air['Flight Distance'].describe()['25%']\n",
    "Q1"
   ]
  },
  {
   "cell_type": "code",
   "execution_count": 17,
   "metadata": {
    "tags": []
   },
   "outputs": [
    {
     "data": {
      "text/plain": [
       "1743.0"
      ]
     },
     "execution_count": 17,
     "metadata": {},
     "output_type": "execute_result"
    }
   ],
   "source": [
    "Q3=air['Flight Distance'].describe()['75%']\n",
    "Q3"
   ]
  },
  {
   "cell_type": "code",
   "execution_count": 18,
   "metadata": {
    "tags": []
   },
   "outputs": [
    {
     "data": {
      "text/plain": [
       "1329.0"
      ]
     },
     "execution_count": 18,
     "metadata": {},
     "output_type": "execute_result"
    }
   ],
   "source": [
    "IQR=Q3-Q1\n",
    "IQR"
   ]
  },
  {
   "cell_type": "code",
   "execution_count": 19,
   "metadata": {
    "tags": []
   },
   "outputs": [
    {
     "data": {
      "text/html": [
       "<div>\n",
       "<style scoped>\n",
       "    .dataframe tbody tr th:only-of-type {\n",
       "        vertical-align: middle;\n",
       "    }\n",
       "\n",
       "    .dataframe tbody tr th {\n",
       "        vertical-align: top;\n",
       "    }\n",
       "\n",
       "    .dataframe thead th {\n",
       "        text-align: right;\n",
       "    }\n",
       "</style>\n",
       "<table border=\"1\" class=\"dataframe\">\n",
       "  <thead>\n",
       "    <tr style=\"text-align: right;\">\n",
       "      <th></th>\n",
       "      <th>id</th>\n",
       "      <th>Age</th>\n",
       "      <th>Flight Distance</th>\n",
       "    </tr>\n",
       "  </thead>\n",
       "  <tbody>\n",
       "    <tr>\n",
       "      <th>count</th>\n",
       "      <td>103904.000000</td>\n",
       "      <td>103904.000000</td>\n",
       "      <td>103904.000000</td>\n",
       "    </tr>\n",
       "    <tr>\n",
       "      <th>mean</th>\n",
       "      <td>64924.210502</td>\n",
       "      <td>39.379706</td>\n",
       "      <td>1189.448375</td>\n",
       "    </tr>\n",
       "    <tr>\n",
       "      <th>std</th>\n",
       "      <td>37463.812252</td>\n",
       "      <td>15.114964</td>\n",
       "      <td>997.147281</td>\n",
       "    </tr>\n",
       "    <tr>\n",
       "      <th>min</th>\n",
       "      <td>1.000000</td>\n",
       "      <td>7.000000</td>\n",
       "      <td>31.000000</td>\n",
       "    </tr>\n",
       "    <tr>\n",
       "      <th>25%</th>\n",
       "      <td>32533.750000</td>\n",
       "      <td>27.000000</td>\n",
       "      <td>414.000000</td>\n",
       "    </tr>\n",
       "    <tr>\n",
       "      <th>50%</th>\n",
       "      <td>64856.500000</td>\n",
       "      <td>40.000000</td>\n",
       "      <td>843.000000</td>\n",
       "    </tr>\n",
       "    <tr>\n",
       "      <th>75%</th>\n",
       "      <td>97368.250000</td>\n",
       "      <td>51.000000</td>\n",
       "      <td>1743.000000</td>\n",
       "    </tr>\n",
       "    <tr>\n",
       "      <th>max</th>\n",
       "      <td>129880.000000</td>\n",
       "      <td>85.000000</td>\n",
       "      <td>4983.000000</td>\n",
       "    </tr>\n",
       "  </tbody>\n",
       "</table>\n",
       "</div>"
      ],
      "text/plain": [
       "                  id            Age  Flight Distance\n",
       "count  103904.000000  103904.000000    103904.000000\n",
       "mean    64924.210502      39.379706      1189.448375\n",
       "std     37463.812252      15.114964       997.147281\n",
       "min         1.000000       7.000000        31.000000\n",
       "25%     32533.750000      27.000000       414.000000\n",
       "50%     64856.500000      40.000000       843.000000\n",
       "75%     97368.250000      51.000000      1743.000000\n",
       "max    129880.000000      85.000000      4983.000000"
      ]
     },
     "execution_count": 19,
     "metadata": {},
     "output_type": "execute_result"
    }
   ],
   "source": [
    "air.describe()"
   ]
  },
  {
   "cell_type": "code",
   "execution_count": 20,
   "metadata": {
    "tags": []
   },
   "outputs": [
    {
     "data": {
      "text/plain": [
       "(3736.5, -1579.5)"
      ]
     },
     "execution_count": 20,
     "metadata": {},
     "output_type": "execute_result"
    }
   ],
   "source": [
    "UF=Q3+(1.5*IQR)\n",
    "LF=Q1-(1.5*IQR)\n",
    "UF,LF"
   ]
  },
  {
   "cell_type": "code",
   "execution_count": 21,
   "metadata": {
    "collapsed": true,
    "jupyter": {
     "outputs_hidden": true
    },
    "tags": []
   },
   "outputs": [
    {
     "data": {
      "text/plain": [
       "Business    49665\n",
       "Eco         46745\n",
       "Eco Plus     7494\n",
       "Name: Class, dtype: int64"
      ]
     },
     "execution_count": 21,
     "metadata": {},
     "output_type": "execute_result"
    }
   ],
   "source": [
    "air['Class'].value_counts()"
   ]
  },
  {
   "cell_type": "code",
   "execution_count": 22,
   "metadata": {
    "jupyter": {
     "source_hidden": true
    },
    "tags": []
   },
   "outputs": [],
   "source": [
    "range_umur=[]\n",
    "for i in range (len(air)):\n",
    "    if 0 < air['Age'].loc[i] <= 15:\n",
    "        range_umur.append('Tidak berpenghasilan')\n",
    "    elif 15 < air['Age'].loc[i] <= 30:\n",
    "        range_umur.append('Berpenghasilan rendah')\n",
    "    elif 30 < air['Age'].loc[i] <= 45:\n",
    "        range_umur.append('Berpenghasilan sedang')\n",
    "    elif 45 < air['Age'].loc[i] :\n",
    "        range_umur.append('Berpenghasilan tinggi')\n",
    "    else:\n",
    "       range_umur.append('Umur aneh')"
   ]
  },
  {
   "cell_type": "code",
   "execution_count": 23,
   "metadata": {
    "collapsed": true,
    "jupyter": {
     "outputs_hidden": true
    },
    "tags": []
   },
   "outputs": [
    {
     "data": {
      "text/html": [
       "<div>\n",
       "<style scoped>\n",
       "    .dataframe tbody tr th:only-of-type {\n",
       "        vertical-align: middle;\n",
       "    }\n",
       "\n",
       "    .dataframe tbody tr th {\n",
       "        vertical-align: top;\n",
       "    }\n",
       "\n",
       "    .dataframe thead th {\n",
       "        text-align: right;\n",
       "    }\n",
       "</style>\n",
       "<table border=\"1\" class=\"dataframe\">\n",
       "  <thead>\n",
       "    <tr style=\"text-align: right;\">\n",
       "      <th></th>\n",
       "      <th>id</th>\n",
       "      <th>Gender</th>\n",
       "      <th>Customer Type</th>\n",
       "      <th>Age</th>\n",
       "      <th>Type of Travel</th>\n",
       "      <th>Class</th>\n",
       "      <th>Flight Distance</th>\n",
       "      <th>satisfaction</th>\n",
       "      <th>Range umur</th>\n",
       "    </tr>\n",
       "  </thead>\n",
       "  <tbody>\n",
       "    <tr>\n",
       "      <th>0</th>\n",
       "      <td>70172</td>\n",
       "      <td>Male</td>\n",
       "      <td>Loyal Customer</td>\n",
       "      <td>13</td>\n",
       "      <td>Personal Travel</td>\n",
       "      <td>Eco Plus</td>\n",
       "      <td>460</td>\n",
       "      <td>neutral or dissatisfied</td>\n",
       "      <td>Tidak berpenghasilan</td>\n",
       "    </tr>\n",
       "    <tr>\n",
       "      <th>1</th>\n",
       "      <td>5047</td>\n",
       "      <td>Male</td>\n",
       "      <td>Disloyal Customer</td>\n",
       "      <td>25</td>\n",
       "      <td>Business travel</td>\n",
       "      <td>Business</td>\n",
       "      <td>235</td>\n",
       "      <td>neutral or dissatisfied</td>\n",
       "      <td>Berpenghasilan rendah</td>\n",
       "    </tr>\n",
       "    <tr>\n",
       "      <th>2</th>\n",
       "      <td>110028</td>\n",
       "      <td>Female</td>\n",
       "      <td>Loyal Customer</td>\n",
       "      <td>26</td>\n",
       "      <td>Business travel</td>\n",
       "      <td>Business</td>\n",
       "      <td>1142</td>\n",
       "      <td>satisfied</td>\n",
       "      <td>Berpenghasilan rendah</td>\n",
       "    </tr>\n",
       "    <tr>\n",
       "      <th>3</th>\n",
       "      <td>24026</td>\n",
       "      <td>Female</td>\n",
       "      <td>Loyal Customer</td>\n",
       "      <td>25</td>\n",
       "      <td>Business travel</td>\n",
       "      <td>Business</td>\n",
       "      <td>562</td>\n",
       "      <td>neutral or dissatisfied</td>\n",
       "      <td>Berpenghasilan rendah</td>\n",
       "    </tr>\n",
       "    <tr>\n",
       "      <th>4</th>\n",
       "      <td>119299</td>\n",
       "      <td>Male</td>\n",
       "      <td>Loyal Customer</td>\n",
       "      <td>61</td>\n",
       "      <td>Business travel</td>\n",
       "      <td>Business</td>\n",
       "      <td>214</td>\n",
       "      <td>satisfied</td>\n",
       "      <td>Berpenghasilan tinggi</td>\n",
       "    </tr>\n",
       "    <tr>\n",
       "      <th>...</th>\n",
       "      <td>...</td>\n",
       "      <td>...</td>\n",
       "      <td>...</td>\n",
       "      <td>...</td>\n",
       "      <td>...</td>\n",
       "      <td>...</td>\n",
       "      <td>...</td>\n",
       "      <td>...</td>\n",
       "      <td>...</td>\n",
       "    </tr>\n",
       "    <tr>\n",
       "      <th>103899</th>\n",
       "      <td>94171</td>\n",
       "      <td>Female</td>\n",
       "      <td>Disloyal Customer</td>\n",
       "      <td>23</td>\n",
       "      <td>Business travel</td>\n",
       "      <td>Eco</td>\n",
       "      <td>192</td>\n",
       "      <td>neutral or dissatisfied</td>\n",
       "      <td>Berpenghasilan rendah</td>\n",
       "    </tr>\n",
       "    <tr>\n",
       "      <th>103900</th>\n",
       "      <td>73097</td>\n",
       "      <td>Male</td>\n",
       "      <td>Loyal Customer</td>\n",
       "      <td>49</td>\n",
       "      <td>Business travel</td>\n",
       "      <td>Business</td>\n",
       "      <td>2347</td>\n",
       "      <td>satisfied</td>\n",
       "      <td>Berpenghasilan tinggi</td>\n",
       "    </tr>\n",
       "    <tr>\n",
       "      <th>103901</th>\n",
       "      <td>68825</td>\n",
       "      <td>Male</td>\n",
       "      <td>Disloyal Customer</td>\n",
       "      <td>30</td>\n",
       "      <td>Business travel</td>\n",
       "      <td>Business</td>\n",
       "      <td>1995</td>\n",
       "      <td>neutral or dissatisfied</td>\n",
       "      <td>Berpenghasilan rendah</td>\n",
       "    </tr>\n",
       "    <tr>\n",
       "      <th>103902</th>\n",
       "      <td>54173</td>\n",
       "      <td>Female</td>\n",
       "      <td>Disloyal Customer</td>\n",
       "      <td>22</td>\n",
       "      <td>Business travel</td>\n",
       "      <td>Eco</td>\n",
       "      <td>1000</td>\n",
       "      <td>neutral or dissatisfied</td>\n",
       "      <td>Berpenghasilan rendah</td>\n",
       "    </tr>\n",
       "    <tr>\n",
       "      <th>103903</th>\n",
       "      <td>62567</td>\n",
       "      <td>Male</td>\n",
       "      <td>Loyal Customer</td>\n",
       "      <td>27</td>\n",
       "      <td>Business travel</td>\n",
       "      <td>Business</td>\n",
       "      <td>1723</td>\n",
       "      <td>neutral or dissatisfied</td>\n",
       "      <td>Berpenghasilan rendah</td>\n",
       "    </tr>\n",
       "  </tbody>\n",
       "</table>\n",
       "<p>103904 rows × 9 columns</p>\n",
       "</div>"
      ],
      "text/plain": [
       "            id  Gender      Customer Type  Age   Type of Travel     Class  \\\n",
       "0        70172    Male     Loyal Customer   13  Personal Travel  Eco Plus   \n",
       "1         5047    Male  Disloyal Customer   25  Business travel  Business   \n",
       "2       110028  Female     Loyal Customer   26  Business travel  Business   \n",
       "3        24026  Female     Loyal Customer   25  Business travel  Business   \n",
       "4       119299    Male     Loyal Customer   61  Business travel  Business   \n",
       "...        ...     ...                ...  ...              ...       ...   \n",
       "103899   94171  Female  Disloyal Customer   23  Business travel       Eco   \n",
       "103900   73097    Male     Loyal Customer   49  Business travel  Business   \n",
       "103901   68825    Male  Disloyal Customer   30  Business travel  Business   \n",
       "103902   54173  Female  Disloyal Customer   22  Business travel       Eco   \n",
       "103903   62567    Male     Loyal Customer   27  Business travel  Business   \n",
       "\n",
       "        Flight Distance             satisfaction             Range umur  \n",
       "0                   460  neutral or dissatisfied   Tidak berpenghasilan  \n",
       "1                   235  neutral or dissatisfied  Berpenghasilan rendah  \n",
       "2                  1142                satisfied  Berpenghasilan rendah  \n",
       "3                   562  neutral or dissatisfied  Berpenghasilan rendah  \n",
       "4                   214                satisfied  Berpenghasilan tinggi  \n",
       "...                 ...                      ...                    ...  \n",
       "103899              192  neutral or dissatisfied  Berpenghasilan rendah  \n",
       "103900             2347                satisfied  Berpenghasilan tinggi  \n",
       "103901             1995  neutral or dissatisfied  Berpenghasilan rendah  \n",
       "103902             1000  neutral or dissatisfied  Berpenghasilan rendah  \n",
       "103903             1723  neutral or dissatisfied  Berpenghasilan rendah  \n",
       "\n",
       "[103904 rows x 9 columns]"
      ]
     },
     "execution_count": 23,
     "metadata": {},
     "output_type": "execute_result"
    }
   ],
   "source": [
    "air['Range umur']=range_umur\n",
    "air"
   ]
  },
  {
   "cell_type": "code",
   "execution_count": 24,
   "metadata": {
    "collapsed": true,
    "jupyter": {
     "outputs_hidden": true
    },
    "tags": []
   },
   "outputs": [
    {
     "data": {
      "text/plain": [
       "Berpenghasilan tinggi    37895\n",
       "Berpenghasilan sedang    33252\n",
       "Berpenghasilan rendah    26709\n",
       "Tidak berpenghasilan      6048\n",
       "Name: Range umur, dtype: int64"
      ]
     },
     "execution_count": 24,
     "metadata": {},
     "output_type": "execute_result"
    }
   ],
   "source": [
    "air['Range umur'].value_counts()"
   ]
  },
  {
   "cell_type": "code",
   "execution_count": 25,
   "metadata": {},
   "outputs": [],
   "source": [
    "range_jarak=[]\n",
    "for i in range (len(air)):\n",
    "    if 0 < air['Flight Distance'].loc[i] <= 1500:\n",
    "        range_jarak.append('Jarak pendek')\n",
    "    elif 1500 < air['Flight Distance'].loc[i] <= 3000:\n",
    "        range_jarak.append('Jarak sedang')\n",
    "    elif 3000 < air['Flight Distance'].loc[i]:\n",
    "        range_jarak.append('Jarak jauh')\n",
    "    else:\n",
    "        range_jarak.append('Bukan jarak beneran')"
   ]
  },
  {
   "cell_type": "code",
   "execution_count": 26,
   "metadata": {
    "tags": []
   },
   "outputs": [
    {
     "data": {
      "text/html": [
       "<div>\n",
       "<style scoped>\n",
       "    .dataframe tbody tr th:only-of-type {\n",
       "        vertical-align: middle;\n",
       "    }\n",
       "\n",
       "    .dataframe tbody tr th {\n",
       "        vertical-align: top;\n",
       "    }\n",
       "\n",
       "    .dataframe thead th {\n",
       "        text-align: right;\n",
       "    }\n",
       "</style>\n",
       "<table border=\"1\" class=\"dataframe\">\n",
       "  <thead>\n",
       "    <tr style=\"text-align: right;\">\n",
       "      <th></th>\n",
       "      <th>id</th>\n",
       "      <th>Gender</th>\n",
       "      <th>Customer Type</th>\n",
       "      <th>Age</th>\n",
       "      <th>Type of Travel</th>\n",
       "      <th>Class</th>\n",
       "      <th>Flight Distance</th>\n",
       "      <th>satisfaction</th>\n",
       "      <th>Range umur</th>\n",
       "      <th>Jauh jarak</th>\n",
       "    </tr>\n",
       "  </thead>\n",
       "  <tbody>\n",
       "    <tr>\n",
       "      <th>0</th>\n",
       "      <td>70172</td>\n",
       "      <td>Male</td>\n",
       "      <td>Loyal Customer</td>\n",
       "      <td>13</td>\n",
       "      <td>Personal Travel</td>\n",
       "      <td>Eco Plus</td>\n",
       "      <td>460</td>\n",
       "      <td>neutral or dissatisfied</td>\n",
       "      <td>Tidak berpenghasilan</td>\n",
       "      <td>Jarak pendek</td>\n",
       "    </tr>\n",
       "    <tr>\n",
       "      <th>1</th>\n",
       "      <td>5047</td>\n",
       "      <td>Male</td>\n",
       "      <td>Disloyal Customer</td>\n",
       "      <td>25</td>\n",
       "      <td>Business travel</td>\n",
       "      <td>Business</td>\n",
       "      <td>235</td>\n",
       "      <td>neutral or dissatisfied</td>\n",
       "      <td>Berpenghasilan rendah</td>\n",
       "      <td>Jarak pendek</td>\n",
       "    </tr>\n",
       "    <tr>\n",
       "      <th>2</th>\n",
       "      <td>110028</td>\n",
       "      <td>Female</td>\n",
       "      <td>Loyal Customer</td>\n",
       "      <td>26</td>\n",
       "      <td>Business travel</td>\n",
       "      <td>Business</td>\n",
       "      <td>1142</td>\n",
       "      <td>satisfied</td>\n",
       "      <td>Berpenghasilan rendah</td>\n",
       "      <td>Jarak pendek</td>\n",
       "    </tr>\n",
       "    <tr>\n",
       "      <th>3</th>\n",
       "      <td>24026</td>\n",
       "      <td>Female</td>\n",
       "      <td>Loyal Customer</td>\n",
       "      <td>25</td>\n",
       "      <td>Business travel</td>\n",
       "      <td>Business</td>\n",
       "      <td>562</td>\n",
       "      <td>neutral or dissatisfied</td>\n",
       "      <td>Berpenghasilan rendah</td>\n",
       "      <td>Jarak pendek</td>\n",
       "    </tr>\n",
       "    <tr>\n",
       "      <th>4</th>\n",
       "      <td>119299</td>\n",
       "      <td>Male</td>\n",
       "      <td>Loyal Customer</td>\n",
       "      <td>61</td>\n",
       "      <td>Business travel</td>\n",
       "      <td>Business</td>\n",
       "      <td>214</td>\n",
       "      <td>satisfied</td>\n",
       "      <td>Berpenghasilan tinggi</td>\n",
       "      <td>Jarak pendek</td>\n",
       "    </tr>\n",
       "    <tr>\n",
       "      <th>...</th>\n",
       "      <td>...</td>\n",
       "      <td>...</td>\n",
       "      <td>...</td>\n",
       "      <td>...</td>\n",
       "      <td>...</td>\n",
       "      <td>...</td>\n",
       "      <td>...</td>\n",
       "      <td>...</td>\n",
       "      <td>...</td>\n",
       "      <td>...</td>\n",
       "    </tr>\n",
       "    <tr>\n",
       "      <th>103899</th>\n",
       "      <td>94171</td>\n",
       "      <td>Female</td>\n",
       "      <td>Disloyal Customer</td>\n",
       "      <td>23</td>\n",
       "      <td>Business travel</td>\n",
       "      <td>Eco</td>\n",
       "      <td>192</td>\n",
       "      <td>neutral or dissatisfied</td>\n",
       "      <td>Berpenghasilan rendah</td>\n",
       "      <td>Jarak pendek</td>\n",
       "    </tr>\n",
       "    <tr>\n",
       "      <th>103900</th>\n",
       "      <td>73097</td>\n",
       "      <td>Male</td>\n",
       "      <td>Loyal Customer</td>\n",
       "      <td>49</td>\n",
       "      <td>Business travel</td>\n",
       "      <td>Business</td>\n",
       "      <td>2347</td>\n",
       "      <td>satisfied</td>\n",
       "      <td>Berpenghasilan tinggi</td>\n",
       "      <td>Jarak sedang</td>\n",
       "    </tr>\n",
       "    <tr>\n",
       "      <th>103901</th>\n",
       "      <td>68825</td>\n",
       "      <td>Male</td>\n",
       "      <td>Disloyal Customer</td>\n",
       "      <td>30</td>\n",
       "      <td>Business travel</td>\n",
       "      <td>Business</td>\n",
       "      <td>1995</td>\n",
       "      <td>neutral or dissatisfied</td>\n",
       "      <td>Berpenghasilan rendah</td>\n",
       "      <td>Jarak sedang</td>\n",
       "    </tr>\n",
       "    <tr>\n",
       "      <th>103902</th>\n",
       "      <td>54173</td>\n",
       "      <td>Female</td>\n",
       "      <td>Disloyal Customer</td>\n",
       "      <td>22</td>\n",
       "      <td>Business travel</td>\n",
       "      <td>Eco</td>\n",
       "      <td>1000</td>\n",
       "      <td>neutral or dissatisfied</td>\n",
       "      <td>Berpenghasilan rendah</td>\n",
       "      <td>Jarak pendek</td>\n",
       "    </tr>\n",
       "    <tr>\n",
       "      <th>103903</th>\n",
       "      <td>62567</td>\n",
       "      <td>Male</td>\n",
       "      <td>Loyal Customer</td>\n",
       "      <td>27</td>\n",
       "      <td>Business travel</td>\n",
       "      <td>Business</td>\n",
       "      <td>1723</td>\n",
       "      <td>neutral or dissatisfied</td>\n",
       "      <td>Berpenghasilan rendah</td>\n",
       "      <td>Jarak sedang</td>\n",
       "    </tr>\n",
       "  </tbody>\n",
       "</table>\n",
       "<p>103904 rows × 10 columns</p>\n",
       "</div>"
      ],
      "text/plain": [
       "            id  Gender      Customer Type  Age   Type of Travel     Class  \\\n",
       "0        70172    Male     Loyal Customer   13  Personal Travel  Eco Plus   \n",
       "1         5047    Male  Disloyal Customer   25  Business travel  Business   \n",
       "2       110028  Female     Loyal Customer   26  Business travel  Business   \n",
       "3        24026  Female     Loyal Customer   25  Business travel  Business   \n",
       "4       119299    Male     Loyal Customer   61  Business travel  Business   \n",
       "...        ...     ...                ...  ...              ...       ...   \n",
       "103899   94171  Female  Disloyal Customer   23  Business travel       Eco   \n",
       "103900   73097    Male     Loyal Customer   49  Business travel  Business   \n",
       "103901   68825    Male  Disloyal Customer   30  Business travel  Business   \n",
       "103902   54173  Female  Disloyal Customer   22  Business travel       Eco   \n",
       "103903   62567    Male     Loyal Customer   27  Business travel  Business   \n",
       "\n",
       "        Flight Distance             satisfaction             Range umur  \\\n",
       "0                   460  neutral or dissatisfied   Tidak berpenghasilan   \n",
       "1                   235  neutral or dissatisfied  Berpenghasilan rendah   \n",
       "2                  1142                satisfied  Berpenghasilan rendah   \n",
       "3                   562  neutral or dissatisfied  Berpenghasilan rendah   \n",
       "4                   214                satisfied  Berpenghasilan tinggi   \n",
       "...                 ...                      ...                    ...   \n",
       "103899              192  neutral or dissatisfied  Berpenghasilan rendah   \n",
       "103900             2347                satisfied  Berpenghasilan tinggi   \n",
       "103901             1995  neutral or dissatisfied  Berpenghasilan rendah   \n",
       "103902             1000  neutral or dissatisfied  Berpenghasilan rendah   \n",
       "103903             1723  neutral or dissatisfied  Berpenghasilan rendah   \n",
       "\n",
       "          Jauh jarak  \n",
       "0       Jarak pendek  \n",
       "1       Jarak pendek  \n",
       "2       Jarak pendek  \n",
       "3       Jarak pendek  \n",
       "4       Jarak pendek  \n",
       "...              ...  \n",
       "103899  Jarak pendek  \n",
       "103900  Jarak sedang  \n",
       "103901  Jarak sedang  \n",
       "103902  Jarak pendek  \n",
       "103903  Jarak sedang  \n",
       "\n",
       "[103904 rows x 10 columns]"
      ]
     },
     "execution_count": 26,
     "metadata": {},
     "output_type": "execute_result"
    }
   ],
   "source": [
    "air['Jauh jarak']=range_jarak\n",
    "air"
   ]
  },
  {
   "cell_type": "code",
   "execution_count": 27,
   "metadata": {
    "tags": []
   },
   "outputs": [
    {
     "data": {
      "text/html": [
       "<div>\n",
       "<style scoped>\n",
       "    .dataframe tbody tr th:only-of-type {\n",
       "        vertical-align: middle;\n",
       "    }\n",
       "\n",
       "    .dataframe tbody tr th {\n",
       "        vertical-align: top;\n",
       "    }\n",
       "\n",
       "    .dataframe thead th {\n",
       "        text-align: right;\n",
       "    }\n",
       "</style>\n",
       "<table border=\"1\" class=\"dataframe\">\n",
       "  <thead>\n",
       "    <tr style=\"text-align: right;\">\n",
       "      <th></th>\n",
       "      <th></th>\n",
       "      <th>Kategori customer</th>\n",
       "      <th>Jumlah</th>\n",
       "    </tr>\n",
       "    <tr>\n",
       "      <th>Customer Type</th>\n",
       "      <th>Class</th>\n",
       "      <th>Type of Travel</th>\n",
       "      <th></th>\n",
       "    </tr>\n",
       "  </thead>\n",
       "  <tbody>\n",
       "    <tr>\n",
       "      <th rowspan=\"6\" valign=\"top\">Disloyal Customer</th>\n",
       "      <th rowspan=\"2\" valign=\"top\">Business</th>\n",
       "      <th>Business travel</th>\n",
       "      <td>7345</td>\n",
       "    </tr>\n",
       "    <tr>\n",
       "      <th>Personal Travel</th>\n",
       "      <td>11</td>\n",
       "    </tr>\n",
       "    <tr>\n",
       "      <th rowspan=\"2\" valign=\"top\">Eco</th>\n",
       "      <th>Business travel</th>\n",
       "      <td>10761</td>\n",
       "    </tr>\n",
       "    <tr>\n",
       "      <th>Personal Travel</th>\n",
       "      <td>149</td>\n",
       "    </tr>\n",
       "    <tr>\n",
       "      <th rowspan=\"2\" valign=\"top\">Eco Plus</th>\n",
       "      <th>Business travel</th>\n",
       "      <td>711</td>\n",
       "    </tr>\n",
       "    <tr>\n",
       "      <th>Personal Travel</th>\n",
       "      <td>4</td>\n",
       "    </tr>\n",
       "    <tr>\n",
       "      <th rowspan=\"6\" valign=\"top\">Loyal Customer</th>\n",
       "      <th rowspan=\"2\" valign=\"top\">Business</th>\n",
       "      <th>Business travel</th>\n",
       "      <td>40163</td>\n",
       "    </tr>\n",
       "    <tr>\n",
       "      <th>Personal Travel</th>\n",
       "      <td>2146</td>\n",
       "    </tr>\n",
       "    <tr>\n",
       "      <th rowspan=\"2\" valign=\"top\">Eco</th>\n",
       "      <th>Business travel</th>\n",
       "      <td>9496</td>\n",
       "    </tr>\n",
       "    <tr>\n",
       "      <th>Personal Travel</th>\n",
       "      <td>26339</td>\n",
       "    </tr>\n",
       "    <tr>\n",
       "      <th rowspan=\"2\" valign=\"top\">Eco Plus</th>\n",
       "      <th>Business travel</th>\n",
       "      <td>3179</td>\n",
       "    </tr>\n",
       "    <tr>\n",
       "      <th>Personal Travel</th>\n",
       "      <td>3600</td>\n",
       "    </tr>\n",
       "  </tbody>\n",
       "</table>\n",
       "</div>"
      ],
      "text/plain": [
       "Kategori customer                           Jumlah\n",
       "Customer Type     Class    Type of Travel         \n",
       "Disloyal Customer Business Business travel    7345\n",
       "                           Personal Travel      11\n",
       "                  Eco      Business travel   10761\n",
       "                           Personal Travel     149\n",
       "                  Eco Plus Business travel     711\n",
       "                           Personal Travel       4\n",
       "Loyal Customer    Business Business travel   40163\n",
       "                           Personal Travel    2146\n",
       "                  Eco      Business travel    9496\n",
       "                           Personal Travel   26339\n",
       "                  Eco Plus Business travel    3179\n",
       "                           Personal Travel    3600"
      ]
     },
     "execution_count": 27,
     "metadata": {},
     "output_type": "execute_result"
    }
   ],
   "source": [
    "# 1. Tipe perjalanan apa yang paling diminati penumpang berdasarkan Customer Type dan Class\n",
    "pd.crosstab(index = [air['Customer Type'], air['Class'], air['Type of Travel']],\n",
    "            columns = ['Jumlah'], colnames = ['Kategori customer'])"
   ]
  },
  {
   "cell_type": "code",
   "execution_count": 28,
   "metadata": {
    "tags": []
   },
   "outputs": [
    {
     "data": {
      "text/plain": [
       "Business    49665\n",
       "Eco         46745\n",
       "Eco Plus     7494\n",
       "Name: Class, dtype: int64"
      ]
     },
     "execution_count": 28,
     "metadata": {},
     "output_type": "execute_result"
    }
   ],
   "source": [
    "# 2. Kelas penerbangan apa yang penjualannya terendah ?\n",
    "air['Class'].value_counts()"
   ]
  },
  {
   "cell_type": "markdown",
   "metadata": {
    "jupyter": {
     "source_hidden": true
    },
    "tags": []
   },
   "source": [
    "**Kesimpulan**:\n",
    "- Penjualan tiket pesawat terendah ada pada class Eco Plus\n",
    "- Kami mengasumsikan bahwa perbandingan harga atau kualitas dari class Eco Plus dan Business tidak berbeda jauh, sehingga pembeli lebih memilih Class Business.\n",
    "\n",
    "**Rekomendasi**:\n",
    "- Naikan kualitas pelayanan penerbangan untuk Class Eco Plus\n",
    "- Turunkan harga tiket penerbangan untuk Class Eco Plus, agar Quantity dari penjualan tiket Eco Plus bisa naik\n",
    "\n",
    "**Asumsi**:\n",
    "- Harga tiket Eco Plus semula 800000\n",
    "- Penjualan awal tiket Eco Plus = 7.494 * 800.000 = 5.995.200.000\n",
    "\n",
    "**Saran**:\n",
    "Apabila perusahaan menurunkan harga tiket Eco Plus menjadi 700.000, asumsikan penjualan tiket akan naik menjadi 10.000.\n",
    "Maka pendapatan dari penjualan tiket Eco Plus sebesar:\n",
    "10.000 * 700.000 = 7.000.000.000\n",
    "Selisih profit:\n",
    "7.000.000.000 - 5.995.200.000 = 1.004.800.000"
   ]
  },
  {
   "cell_type": "code",
   "execution_count": 29,
   "metadata": {
    "tags": []
   },
   "outputs": [
    {
     "data": {
      "text/html": [
       "<div>\n",
       "<style scoped>\n",
       "    .dataframe tbody tr th:only-of-type {\n",
       "        vertical-align: middle;\n",
       "    }\n",
       "\n",
       "    .dataframe tbody tr th {\n",
       "        vertical-align: top;\n",
       "    }\n",
       "\n",
       "    .dataframe thead th {\n",
       "        text-align: right;\n",
       "    }\n",
       "</style>\n",
       "<table border=\"1\" class=\"dataframe\">\n",
       "  <thead>\n",
       "    <tr style=\"text-align: right;\">\n",
       "      <th></th>\n",
       "      <th>Kategori Jarak</th>\n",
       "      <th>Jumlah</th>\n",
       "    </tr>\n",
       "    <tr>\n",
       "      <th>Class</th>\n",
       "      <th>Jauh jarak</th>\n",
       "      <th></th>\n",
       "    </tr>\n",
       "  </thead>\n",
       "  <tbody>\n",
       "    <tr>\n",
       "      <th rowspan=\"3\" valign=\"top\">Business</th>\n",
       "      <th>Jarak jauh</th>\n",
       "      <td>8204</td>\n",
       "    </tr>\n",
       "    <tr>\n",
       "      <th>Jarak pendek</th>\n",
       "      <td>23368</td>\n",
       "    </tr>\n",
       "    <tr>\n",
       "      <th>Jarak sedang</th>\n",
       "      <td>18093</td>\n",
       "    </tr>\n",
       "    <tr>\n",
       "      <th rowspan=\"3\" valign=\"top\">Eco</th>\n",
       "      <th>Jarak jauh</th>\n",
       "      <td>49</td>\n",
       "    </tr>\n",
       "    <tr>\n",
       "      <th>Jarak pendek</th>\n",
       "      <td>42378</td>\n",
       "    </tr>\n",
       "    <tr>\n",
       "      <th>Jarak sedang</th>\n",
       "      <td>4318</td>\n",
       "    </tr>\n",
       "    <tr>\n",
       "      <th rowspan=\"3\" valign=\"top\">Eco Plus</th>\n",
       "      <th>Jarak jauh</th>\n",
       "      <td>12</td>\n",
       "    </tr>\n",
       "    <tr>\n",
       "      <th>Jarak pendek</th>\n",
       "      <td>6687</td>\n",
       "    </tr>\n",
       "    <tr>\n",
       "      <th>Jarak sedang</th>\n",
       "      <td>795</td>\n",
       "    </tr>\n",
       "  </tbody>\n",
       "</table>\n",
       "</div>"
      ],
      "text/plain": [
       "Kategori Jarak         Jumlah\n",
       "Class    Jauh jarak          \n",
       "Business Jarak jauh      8204\n",
       "         Jarak pendek   23368\n",
       "         Jarak sedang   18093\n",
       "Eco      Jarak jauh        49\n",
       "         Jarak pendek   42378\n",
       "         Jarak sedang    4318\n",
       "Eco Plus Jarak jauh        12\n",
       "         Jarak pendek    6687\n",
       "         Jarak sedang     795"
      ]
     },
     "execution_count": 29,
     "metadata": {},
     "output_type": "execute_result"
    }
   ],
   "source": [
    "# 3. Kelas apa yang penjualannya paling banyak pada penerbangan jarak jauh\n",
    "pd.crosstab(index = [air['Class'], air['Jauh jarak']],\n",
    "            columns = ['Jumlah'], colnames = ['Kategori Jarak'])"
   ]
  },
  {
   "cell_type": "markdown",
   "metadata": {
    "jupyter": {
     "source_hidden": true
    },
    "tags": []
   },
   "source": [
    "**Kesimpulan**:\n",
    "- Business Class menjadi pilihan utama untuk penerbangan jarak jauh\n",
    "- Sedangkan Eco Plus menjadi pilihan terakhir untuk penerbangan jarak jauh"
   ]
  },
  {
   "cell_type": "code",
   "execution_count": 30,
   "metadata": {
    "tags": []
   },
   "outputs": [
    {
     "data": {
      "text/html": [
       "<div>\n",
       "<style scoped>\n",
       "    .dataframe tbody tr th:only-of-type {\n",
       "        vertical-align: middle;\n",
       "    }\n",
       "\n",
       "    .dataframe tbody tr th {\n",
       "        vertical-align: top;\n",
       "    }\n",
       "\n",
       "    .dataframe thead th {\n",
       "        text-align: right;\n",
       "    }\n",
       "</style>\n",
       "<table border=\"1\" class=\"dataframe\">\n",
       "  <thead>\n",
       "    <tr style=\"text-align: right;\">\n",
       "      <th></th>\n",
       "      <th>Kategori Customer</th>\n",
       "      <th>Jumlah</th>\n",
       "    </tr>\n",
       "    <tr>\n",
       "      <th>Type of Travel</th>\n",
       "      <th>satisfaction</th>\n",
       "      <th></th>\n",
       "    </tr>\n",
       "  </thead>\n",
       "  <tbody>\n",
       "    <tr>\n",
       "      <th rowspan=\"2\" valign=\"top\">Business travel</th>\n",
       "      <th>neutral or dissatisfied</th>\n",
       "      <td>29909</td>\n",
       "    </tr>\n",
       "    <tr>\n",
       "      <th>satisfied</th>\n",
       "      <td>41746</td>\n",
       "    </tr>\n",
       "    <tr>\n",
       "      <th rowspan=\"2\" valign=\"top\">Personal Travel</th>\n",
       "      <th>neutral or dissatisfied</th>\n",
       "      <td>28970</td>\n",
       "    </tr>\n",
       "    <tr>\n",
       "      <th>satisfied</th>\n",
       "      <td>3279</td>\n",
       "    </tr>\n",
       "  </tbody>\n",
       "</table>\n",
       "</div>"
      ],
      "text/plain": [
       "Kategori Customer                        Jumlah\n",
       "Type of Travel  satisfaction                   \n",
       "Business travel neutral or dissatisfied   29909\n",
       "                satisfied                 41746\n",
       "Personal Travel neutral or dissatisfied   28970\n",
       "                satisfied                  3279"
      ]
     },
     "execution_count": 30,
     "metadata": {},
     "output_type": "execute_result"
    }
   ],
   "source": [
    "# - 4. Bagaimana tanggapan penumpang terhadap penerbangan pribadi(personal travel)\n",
    "pd.crosstab(index = [air['Type of Travel'], air['satisfaction']],\n",
    "            columns = ['Jumlah'], colnames = ['Kategori Customer'])"
   ]
  },
  {
   "cell_type": "markdown",
   "metadata": {
    "jupyter": {
     "source_hidden": true
    },
    "tags": []
   },
   "source": [
    "#### **Kesimpulan**\n",
    "- Dari tabel diatas bisa dilihat bahwa Business Class memiliki tingkat kepuasan yang paling tinggi.\n",
    "- Kami mengasumsikan bahwa tingkat kepuasan penumpang berdasarkan pelayanan Business Class yang sangat baik."
   ]
  },
  {
   "cell_type": "code",
   "execution_count": 31,
   "metadata": {
    "tags": []
   },
   "outputs": [
    {
     "data": {
      "text/html": [
       "<div>\n",
       "<style scoped>\n",
       "    .dataframe tbody tr th:only-of-type {\n",
       "        vertical-align: middle;\n",
       "    }\n",
       "\n",
       "    .dataframe tbody tr th {\n",
       "        vertical-align: top;\n",
       "    }\n",
       "\n",
       "    .dataframe thead th {\n",
       "        text-align: right;\n",
       "    }\n",
       "</style>\n",
       "<table border=\"1\" class=\"dataframe\">\n",
       "  <thead>\n",
       "    <tr style=\"text-align: right;\">\n",
       "      <th>Range umur</th>\n",
       "      <th>Berpenghasilan rendah</th>\n",
       "      <th>Berpenghasilan sedang</th>\n",
       "      <th>Berpenghasilan tinggi</th>\n",
       "      <th>Tidak berpenghasilan</th>\n",
       "    </tr>\n",
       "    <tr>\n",
       "      <th>Class</th>\n",
       "      <th></th>\n",
       "      <th></th>\n",
       "      <th></th>\n",
       "      <th></th>\n",
       "    </tr>\n",
       "  </thead>\n",
       "  <tbody>\n",
       "    <tr>\n",
       "      <th>Business</th>\n",
       "      <td>10252</td>\n",
       "      <td>18626</td>\n",
       "      <td>19867</td>\n",
       "      <td>920</td>\n",
       "    </tr>\n",
       "    <tr>\n",
       "      <th>Eco</th>\n",
       "      <td>14488</td>\n",
       "      <td>12412</td>\n",
       "      <td>15378</td>\n",
       "      <td>4467</td>\n",
       "    </tr>\n",
       "    <tr>\n",
       "      <th>Eco Plus</th>\n",
       "      <td>1969</td>\n",
       "      <td>2214</td>\n",
       "      <td>2650</td>\n",
       "      <td>661</td>\n",
       "    </tr>\n",
       "  </tbody>\n",
       "</table>\n",
       "</div>"
      ],
      "text/plain": [
       "Range umur  Berpenghasilan rendah  Berpenghasilan sedang  \\\n",
       "Class                                                      \n",
       "Business                    10252                  18626   \n",
       "Eco                         14488                  12412   \n",
       "Eco Plus                     1969                   2214   \n",
       "\n",
       "Range umur  Berpenghasilan tinggi  Tidak berpenghasilan  \n",
       "Class                                                    \n",
       "Business                    19867                   920  \n",
       "Eco                         15378                  4467  \n",
       "Eco Plus                     2650                   661  "
      ]
     },
     "execution_count": 31,
     "metadata": {},
     "output_type": "execute_result"
    }
   ],
   "source": [
    "# 5. Berdasarkan range umur, tipe kelas penerbangan apa yang paling banyak diminati ?\n",
    "pd.crosstab(index = air['Class'],\n",
    "            columns = air['Range umur'],\n",
    "            values = air['Flight Distance'],\n",
    "            aggfunc = 'count')"
   ]
  },
  {
   "cell_type": "markdown",
   "metadata": {
    "jupyter": {
     "source_hidden": true
    },
    "tags": []
   },
   "source": [
    "**Kesimpulan**:\n",
    "- Dari tabel diatas bisa dilihat bahwa range umur >= 45tahun kita asumsikan berpenghasilan tinggi lebih memilih untuk membeli tiket Business Class"
   ]
  },
  {
   "cell_type": "markdown",
   "metadata": {},
   "source": [
    "**Kesimpulan**:\n",
    "- Loyal Customer lebih memilih membeli tiket penerbangan Business Class\n",
    "- Sedangkan Disloyal Customer lebih memilih membeli tiket penerbangan Eco Class\n",
    "- Dari seluruh pertanyaan dan hasil jawaban diatas, kita bisa menarik kesimpulan bahwa penjualan tiket Eco Plus yang paling rendah\n",
    "- Penjualan tiket tertinggi ada pada Business Class\n",
    "- Business Class menjadi pilihan utama untuk penerbangan jarak jauh\n",
    "- Lebih banyak penumpang (personal travel) memberikan feedback netral atau tidak puas\n",
    "- Pembelian tiket penerbangan sesuai dengan penghasilan penumpang\n",
    "\n",
    "**Asumsi**:\n",
    "- Loyal customer sudah percaya dengan maskapai penerbangan ini, sehingga mereka tidak ragu untuk membeli tiket penerbangan Business Class\n",
    "- Sedangkan Disloyal customer belum percaya dengan maskapai penerbangan ini, sehingga mereka ragu untuk membeli tiket penerbangan selain Eco Class\n",
    "- Harga tiket Eco Plus semula 800.000\n",
    "- Penjualan awal tiket Eco Plus = 7.494 * 800.000 = 5.995.200.000\n",
    "- Karena untuk penerbangan jarak jauh, penumpang akan memilih penerbangan yang nyaman\n",
    "- Misal jumlah feedback yang netral dan tidak puas dianggap setara(50:50), maka jumlah yang tidak puas masih lebih banyak dibanding feedback yang puas\n",
    "- Semakin tinggi penghasilan penumpang, maka kelas penerbangan yang dipilih juga akan semakin tinggi\n",
    "\n",
    "**Saran**:\n",
    "- Tingkatkan pelayanan di semua tipe kelas penerbangan, agar semua penumpang percaya dengan maskapai ini\n",
    "- Apabila perusahaan menurunkan harga tiket Eco Plus menjadi 700.000, asumsikan penjualan tiket akan naik menjadi 10.000.\n",
    "  Maka pendapatan dari penjualan tiket Eco Plus sebesar:\n",
    "  10.000 * 700.000 = 7.000.000.000\n",
    "  Selisih profit:\n",
    "  7.000.000.000 - 5.995.200.000 = 1.004.800.000"
   ]
  },
  {
   "cell_type": "code",
   "execution_count": null,
   "metadata": {},
   "outputs": [],
   "source": []
  }
 ],
 "metadata": {
  "kernelspec": {
   "display_name": "Python 3 (ipykernel)",
   "language": "python",
   "name": "python3"
  },
  "language_info": {
   "codemirror_mode": {
    "name": "ipython",
    "version": 3
   },
   "file_extension": ".py",
   "mimetype": "text/x-python",
   "name": "python",
   "nbconvert_exporter": "python",
   "pygments_lexer": "ipython3",
   "version": "3.10.6"
  },
  "vscode": {
   "interpreter": {
    "hash": "945ba00099661281427cc644a7000ee9eeea5ce6ad3bf937939d3d384b8f3881"
   }
  }
 },
 "nbformat": 4,
 "nbformat_minor": 4
}
